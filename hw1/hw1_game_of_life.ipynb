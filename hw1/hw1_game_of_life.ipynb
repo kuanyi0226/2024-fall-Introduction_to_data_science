{
 "cells": [
  {
   "cell_type": "markdown",
   "metadata": {},
   "source": [
    "### Conway’s Game of Life\n",
    "Conway’s Game of Life (https://en.wikipedia.org/wiki/Conway%27s_Game_of_Life) is a classic example of a cellular automaton devised by mathematician John Conway. The game is a classic example of how simple rules can give rise to complex behavior. The game is played on an m-by-n board, which we will represent as an m-by-n matrix. The game proceeds in steps. At any given time, each cell of the board (i.e., entry of our matrix), is either alive (which we will represent as a 1) or dead (which we will represent as a 0). At each step, the board evolves according to a few simple rules:\n",
    "\n",
    "• A live cell with fewer than two live neighbors becomes a dead cell.   \n",
    "• A live cell with more than three live neighbors becomes a dead cell.   \n",
    "• A live cell with two or three live neighbors remains alive.  \n",
    "• A dead cell with exactly three live neighbors becomes alive.  \n",
    "• All other dead cells remain dead.  \n",
    "\n",
    "   The neighbors of a cell are the 8 cells adjacent to it, i.e., left, right, above, below, upper- left, lower-left, upper-right and lower-right. We will follow the convention that the board is toroidal, so that using matrix-like notation (i.e., the cell (0,0) is in the upper-left of the board and the first coordinate specifies a row), the upper neighbor of the cell (0,0) is (m − 1,0), the right neighbor of the cell (m − 1,n − 1) is (m − 1,0), etc. That is, the board “wraps around”. \n",
    "   \n",
    "   Note: you are not required to use this matrix-like indexing. It’s just what I chose to use to explain the toroidal property."
   ]
  },
  {
   "cell_type": "code",
   "execution_count": 128,
   "metadata": {},
   "outputs": [],
   "source": [
    "import numpy as np\n",
    "import matplotlib.pyplot as plt\n",
    "import scipy.stats\n",
    "\n",
    "import copy\n",
    "from matplotlib import animation\n",
    "import time\n",
    "from IPython.display import display,clear_output\n",
    "\n",
    "%matplotlib inline"
   ]
  },
  {
   "cell_type": "markdown",
   "metadata": {},
   "source": [
    "1. Write a function <span style=\"font-family:Courier; font-size:1em;\">is_valid_board</span> that takes an m-by-n numpy array (i.e., an ndarray) as its only argument and returns a Python Boolean that is True if and only if the argument is a valid representation of a Game of Life board. A valid board is any two-dimensional numpy ndarray with all entries either 0.0 and 1.0."
   ]
  },
  {
   "cell_type": "code",
   "execution_count": 15,
   "metadata": {},
   "outputs": [],
   "source": [
    "def is_valid_board(a):\n",
    "    #check if it's a 2D numpy array\n",
    "    if(a.ndim != 2) or (not isinstance(a, np.ndarray)):\n",
    "        return False\n",
    "    \n",
    "    #check all entries either 0.0 and 1.0.\n",
    "    element_set = np.unique(a)\n",
    "    element_check = np.all(np.isin(element_set, [0.0, 1.0]))\n",
    "    return element_check\n"
   ]
  },
  {
   "cell_type": "code",
   "execution_count": 16,
   "metadata": {},
   "outputs": [
    {
     "data": {
      "text/plain": [
       "True"
      ]
     },
     "execution_count": 16,
     "metadata": {},
     "output_type": "execute_result"
    }
   ],
   "source": [
    "a = np.array([[0,1,0,1], [1,0,0,1], [1,1,0,0]])\n",
    "is_valid_board(a) #True"
   ]
  },
  {
   "cell_type": "code",
   "execution_count": 17,
   "metadata": {},
   "outputs": [
    {
     "data": {
      "text/plain": [
       "False"
      ]
     },
     "execution_count": 17,
     "metadata": {},
     "output_type": "execute_result"
    }
   ],
   "source": [
    "b = np.array([[0,1,1,1], [0,0,0,3], [1,1,0,0]])\n",
    "is_valid_board(b) #False"
   ]
  },
  {
   "cell_type": "markdown",
   "metadata": {},
   "source": [
    "2. Write a function called <span style=\"font-family:Courier; font-size:1em;\">gol_step</span> that takes an m-by-n numpy array as its argument and returns another numpy array of the same size (i.e., also m-by-n), corresponding to the board at the next step of the game. \n",
    "\n",
    "    Your function should perform error checking to ensure that the provided argument is a valid Game of Life board."
   ]
  },
  {
   "cell_type": "code",
   "execution_count": 260,
   "metadata": {},
   "outputs": [],
   "source": [
    "def gol_step(a):\n",
    "    #ensure the argument is valid\n",
    "    valid = is_valid_board(a)\n",
    "    if not valid:\n",
    "        raise ValueError(\"The input is not a valid Game of Life board!\")\n",
    "    \n",
    "    #get the value of m & n\n",
    "    m,n = a.shape\n",
    "    #create the board in the next round\n",
    "    next_board = np.zeros((m,n))\n",
    "    \n",
    "    #iterate each cell in the current board a\n",
    "    for i in range(m):\n",
    "        for j in range(n):\n",
    "            # calculate the number of live neighbors (using toroidal wrapping)\n",
    "            # python has negative index\n",
    "            total_neighbors = (a[i-1, j-1]     + a[i-1, j]      + a[i-1, (j+1)%n]\n",
    "                            +  a[i, j-1]                        + a[i, (j+1)%n] \n",
    "                            +  a[(i+1)%m, j-1] +  a[(i+1)%m, j] + a[(i+1)%m, (j+1)%n])\n",
    "            \n",
    "            # Apply the Game of Life rules\n",
    "            if a[i, j] == 1:  # Cell is alive\n",
    "                if total_neighbors < 2 or total_neighbors > 3:\n",
    "                    next_board[i, j] = 0  # Dies\n",
    "                else:\n",
    "                    next_board[i, j] = 1  # Stays alive\n",
    "            else:  # Cell is dead\n",
    "                if total_neighbors == 3:\n",
    "                    next_board[i, j] = 1  # Becomes alive\n",
    "                else:\n",
    "                    next_board[i, j] = 0  # Stays dead\n",
    "    \n",
    "    return next_board\n",
    "\n"
   ]
  },
  {
   "cell_type": "code",
   "execution_count": 25,
   "metadata": {},
   "outputs": [],
   "source": [
    "x = np.array([[0, 1, 0, 0, 0],\n",
    "              [1, 0, 0, 1, 0],\n",
    "              [1, 0, 0, 0, 1],\n",
    "              [0, 1, 0, 0, 0],\n",
    "              [0, 0, 0, 0, 0]])\n",
    "y = gol_step(x)\n",
    "#y\n"
   ]
  },
  {
   "cell_type": "markdown",
   "metadata": {},
   "source": [
    "3. Write a function called draw_gol_board that takes an m-by-n numpy array (i.e., an ndarray) as its only argument and draws the board as an m-by-n set of tiles, colored black or white correspond to whether the corresponding cell is alive or dead, respectively. Your plot should not have any grid lines, nor should it have any axis labels or axis ticks. \n",
    "\n",
    "    Hint: see the functions plt.xticks() and plt.yticks() for changing axis ticks. \n",
    "    \n",
    "    Hint: you may find the function plt.get_cmap to be useful for working with the matplotlib Colormap objects."
   ]
  },
  {
   "cell_type": "code",
   "execution_count": 210,
   "metadata": {},
   "outputs": [],
   "source": [
    "def draw_gol_board(a):\n",
    "    #create the figure and axes\n",
    "    fig, ax = plt.subplots(figsize=(2.8, 2.8))\n",
    "    fig.patch.set_alpha(0)  # Set the figure background to transparent\n",
    "\n",
    "    # Draw the board with black: alive(1), white: dead(0)\n",
    "    cmap_gray_r = plt.get_cmap('gray_r')  #grayscale colormap(reversed)\n",
    "    ax.imshow(a, cmap=cmap_gray_r)\n",
    "\n",
    "    # Remove axis ticks and labels\n",
    "    plt.xticks([])\n",
    "    plt.yticks([])\n",
    "    # Turn off the outer frame\n",
    "    ax.axis('off')    \n",
    "    # Adjust layout to remove any extra space\n",
    "    plt.margins(0,0)\n",
    "\n",
    "    # Display the board\n",
    "    plt.show()\n",
    "\n",
    "    return fig,ax"
   ]
  },
  {
   "cell_type": "code",
   "execution_count": 118,
   "metadata": {},
   "outputs": [
    {
     "data": {
      "text/plain": [
       "array([[0, 1, 0, 0, 0],\n",
       "       [1, 0, 0, 1, 0],\n",
       "       [1, 0, 0, 0, 1],\n",
       "       [0, 1, 0, 0, 0],\n",
       "       [0, 0, 0, 0, 0]])"
      ]
     },
     "execution_count": 118,
     "metadata": {},
     "output_type": "execute_result"
    }
   ],
   "source": [
    "x"
   ]
  },
  {
   "cell_type": "code",
   "execution_count": 152,
   "metadata": {},
   "outputs": [
    {
     "data": {
      "image/png": "[encoded data removed]",
      "text/plain": [
       "<Figure size 280x280 with 1 Axes>"
      ]
     },
     "metadata": {},
     "output_type": "display_data"
    }
   ],
   "source": [
    "board = draw_gol_board(x)"
   ]
  },
  {
   "cell_type": "markdown",
   "metadata": {},
   "source": [
    "4.  Create a 20-by-20 numpy array corresponding to a Game of Life board in which all cells are dead, with the exception that the top-left 5-by-5 section of the board looks like this:\n",
    "    \n",
    "    Plot this 20-by-20 board using draw_gol_board."
   ]
  },
  {
   "cell_type": "code",
   "execution_count": 169,
   "metadata": {},
   "outputs": [
    {
     "data": {
      "image/png": "[encoded data removed]",
      "text/plain": [
       "<Figure size 280x280 with 1 Axes>"
      ]
     },
     "metadata": {},
     "output_type": "display_data"
    },
    {
     "data": {
      "text/plain": [
       "(<Figure size 280x280 with 1 Axes>, <Axes: >)"
      ]
     },
     "execution_count": 169,
     "metadata": {},
     "output_type": "execute_result"
    }
   ],
   "source": [
    "#init a 20x20 board with all dead cells\n",
    "board = np.zeros((20, 20))\n",
    "#init the pattern\n",
    "initial_pattern = np.array([[0, 1, 0],\n",
    "                          [0, 0, 1],\n",
    "                          [1, 1, 1]])\n",
    "#combine them\n",
    "board[1:4,1:4] = initial_pattern\n",
    "draw_gol_board(board)\n",
    "\n",
    "\n"
   ]
  },
  {
   "cell_type": "code",
   "execution_count": 11,
   "metadata": {},
   "outputs": [
    {
     "data": {
      "image/png": "[encoded data removed]",
      "text/plain": [
       "<Figure size 432x288 with 1 Axes>"
      ]
     },
     "metadata": {},
     "output_type": "display_data"
    }
   ],
   "source": [
    "#ans"
   ]
  },
  {
   "cell_type": "markdown",
   "metadata": {},
   "source": [
    "5. Generate a plot with 5 subplots, arranged in a 5-by-1 grid, showing the first five steps of the Game of Life when started with the board you just created, with the steps ordered from top to bottom, The figure in the 5-by-5 sub-board above is called a glider, and it is interesting in that, as you can see from your plot, it seems to move along the board as you run the game."
   ]
  },
  {
   "cell_type": "code",
   "execution_count": 249,
   "metadata": {},
   "outputs": [
    {
     "data": {
      "image/png": "[encoded data removed]",
      "text/plain": [
       "<Figure size 280x280 with 1 Axes>"
      ]
     },
     "metadata": {},
     "output_type": "display_data"
    },
    {
     "data": {
      "image/png": "[encoded data removed]",
      "text/plain": [
       "<Figure size 280x280 with 1 Axes>"
      ]
     },
     "metadata": {},
     "output_type": "display_data"
    },
    {
     "data": {
      "image/png": "[encoded data removed]",
      "text/plain": [
       "<Figure size 280x280 with 1 Axes>"
      ]
     },
     "metadata": {},
     "output_type": "display_data"
    },
    {
     "data": {
      "image/png": "[encoded data removed]",
      "text/plain": [
       "<Figure size 280x280 with 1 Axes>"
      ]
     },
     "metadata": {},
     "output_type": "display_data"
    },
    {
     "data": {
      "image/png": "[encoded data removed]",
      "text/plain": [
       "<Figure size 280x280 with 1 Axes>"
      ]
     },
     "metadata": {},
     "output_type": "display_data"
    }
   ],
   "source": [
    "#first five steps of the Game of Life\n",
    "current_board = board \n",
    "for step in range(5):\n",
    "    #draw the current board\n",
    "    draw_gol_board(current_board)\n",
    "    \n",
    "    #calculate the next board\n",
    "    current_board = gol_step(current_board)"
   ]
  },
  {
   "cell_type": "code",
   "execution_count": 13,
   "metadata": {},
   "outputs": [
    {
     "data": {
      "image/png": "[encoded data removed]",
      "text/plain": [
       "<Figure size 1656x1656 with 1 Axes>"
      ]
     },
     "metadata": {},
     "output_type": "display_data"
    },
    {
     "data": {
      "image/png": "[encoded data removed]",
      "text/plain": [
       "<Figure size 432x288 with 1 Axes>"
      ]
     },
     "metadata": {},
     "output_type": "display_data"
    },
    {
     "data": {
      "image/png": "[encoded data removed]",
      "text/plain": [
       "<Figure size 432x288 with 1 Axes>"
      ]
     },
     "metadata": {},
     "output_type": "display_data"
    },
    {
     "data": {
      "image/png": "[encoded data removed]",
      "text/plain": [
       "<Figure size 432x288 with 1 Axes>"
      ]
     },
     "metadata": {},
     "output_type": "display_data"
    },
    {
     "data": {
      "image/png": "[encoded data removed]",
      "text/plain": [
       "<Figure size 432x288 with 1 Axes>"
      ]
     },
     "metadata": {},
     "output_type": "display_data"
    }
   ],
   "source": [
    "#ans"
   ]
  },
  {
   "cell_type": "markdown",
   "metadata": {},
   "source": [
    "6. Create a function called draw_animation that takes two arguments, a Game of Life board and a number of steps, and generates an animation of the game as it runs for the given number of steps."
   ]
  },
  {
   "cell_type": "code",
   "execution_count": 261,
   "metadata": {},
   "outputs": [],
   "source": [
    "def draw_animation(M, n):\n",
    "    current_board = M\n",
    "    for _ in range(n):\n",
    "        #generate the output\n",
    "        draw_gol_board(current_board)\n",
    "        #delete the cell output\n",
    "        clear_output(wait=True)\n",
    "        time.sleep(0.1)\n",
    "        current_board = gol_step(current_board)\n",
    "\n",
    "\n",
    "\n",
    "\n",
    "a = board"
   ]
  },
  {
   "cell_type": "code",
   "execution_count": null,
   "metadata": {},
   "outputs": [
    {
     "data": {
      "image/png": "[encoded data removed]",
      "text/plain": [
       "<Figure size 432x288 with 1 Axes>"
      ]
     },
     "metadata": {},
     "output_type": "display_data"
    }
   ],
   "source": [
    "draw_animation(a,100)"
   ]
  },
  {
   "cell_type": "code",
   "execution_count": 263,
   "metadata": {},
   "outputs": [
    {
     "data": {
      "image/png": "[encoded data removed]",
      "text/plain": [
       "<Figure size 280x280 with 1 Axes>"
      ]
     },
     "metadata": {},
     "output_type": "display_data"
    }
   ],
   "source": [
    "draw_animation(a,100)"
   ]
  }
 ],
 "metadata": {
  "kernelspec": {
   "display_name": "Python 3",
   "language": "python",
   "name": "python3"
  },
  "language_info": {
   "codemirror_mode": {
    "name": "ipython",
    "version": 3
   },
   "file_extension": ".py",
   "mimetype": "text/x-python",
   "name": "python",
   "nbconvert_exporter": "python",
   "pygments_lexer": "ipython3",
   "version": "3.10.2"
  }
 },
 "nbformat": 4,
 "nbformat_minor": 2
}
